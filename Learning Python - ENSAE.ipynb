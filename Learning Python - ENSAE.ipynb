{
 "cells": [
  {
   "cell_type": "code",
   "execution_count": 36,
   "metadata": {},
   "outputs": [],
   "source": [
    "def code_vigenere ( message, cle) :\n",
    "    L=[]\n",
    "    message_code=''\n",
    "    n=''    \n",
    "    for c in cle:\n",
    "        L.append(ord(c))\n",
    "    while len(L)<len(message):\n",
    "        L=L*2\n",
    "    for k in range(len(message)):\n",
    "        n= (ord(message[k])+L[k])%26 + ord('A')\n",
    "        message_code+=chr(n)        \n",
    "    return message_code"
   ]
  },
  {
   "cell_type": "code",
   "execution_count": 37,
   "metadata": {},
   "outputs": [
    {
     "data": {
      "text/plain": [
       "'MSCHGJLGEDGRRRT'"
      ]
     },
     "execution_count": 37,
     "metadata": {},
     "output_type": "execute_result"
    }
   ],
   "source": [
    "code_vigenere('JENESUISPASCODE','DOP')"
   ]
  },
  {
   "cell_type": "code",
   "execution_count": 38,
   "metadata": {},
   "outputs": [],
   "source": [
    "\n",
    "def decode_vigenere ( message, cle) :\n",
    "    L=[]\n",
    "    message_decode=''\n",
    "    n=''    \n",
    "    for c in cle:\n",
    "        L.append(ord(c))\n",
    "    while len(L)<len(message):\n",
    "        L=L*2\n",
    "    for k in range(len(message)):\n",
    "        n= (ord(message[k])-L[k])%26 + ord('A')\n",
    "        message_decode+=chr(n)        \n",
    "    return message_decode"
   ]
  },
  {
   "cell_type": "code",
   "execution_count": 39,
   "metadata": {},
   "outputs": [
    {
     "data": {
      "text/plain": [
       "'JENESUISPASCODE'"
      ]
     },
     "execution_count": 39,
     "metadata": {},
     "output_type": "execute_result"
    }
   ],
   "source": [
    "decode_vigenere ( 'MSCHGJLGEDGRRRT', 'DOP')"
   ]
  },
  {
   "cell_type": "code",
   "execution_count": 43,
   "metadata": {},
   "outputs": [
    {
     "name": "stdout",
     "output_type": "stream",
     "text": [
      "['mat.txt']\n"
     ]
    }
   ],
   "source": [
    "mat = [[1.0, 0.0],[0.0,1.0] ]                    # matrice de type liste de listes\n",
    "with open (\"mat.txt\", \"w\") as f :                # création d'un fichier en mode écriture\n",
    "    for i in range (0,len (mat)) :               #\n",
    "        for j in range (0, len (mat [i])) :      #\n",
    "            s = str (mat [i][j])                 # conversion en chaîne de caractères\n",
    "            f.write (s + \"\\t\")                   #\n",
    "        f.write (\"\\n\")                           #\n",
    "\n",
    "# on vérifie que le fichier existe :\n",
    "import os\n",
    "print([ _ for _ in os.listdir(\".\") if \"mat\" in _ ] )"
   ]
  },
  {
   "cell_type": "code",
   "execution_count": 42,
   "metadata": {},
   "outputs": [
    {
     "name": "stdout",
     "output_type": "stream",
     "text": [
      "['mat.txt']\n"
     ]
    }
   ],
   "source": [
    "mat = [[1.1, 0.0],[0.0,1.0] ]             # matrice de type liste de listes\n",
    "with open (\"mat.txt\", \"w\") as f :        # création d'un fichier\n",
    "    s = '\\n'.join ( '\\t'.join( str(x) for x in row  ) for row in mat )\n",
    "    f.write ( s )\n",
    "\n",
    "# on vérifie que le fichier existe :\n",
    "print([ _ for _ in os.listdir(\".\") if \"mat\" in _ ] )"
   ]
  },
  {
   "cell_type": "code",
   "execution_count": 51,
   "metadata": {},
   "outputs": [
    {
     "data": {
      "text/html": [
       "<div>\n",
       "<style scoped>\n",
       "    .dataframe tbody tr th:only-of-type {\n",
       "        vertical-align: middle;\n",
       "    }\n",
       "\n",
       "    .dataframe tbody tr th {\n",
       "        vertical-align: top;\n",
       "    }\n",
       "\n",
       "    .dataframe thead th {\n",
       "        text-align: right;\n",
       "    }\n",
       "</style>\n",
       "<table border=\"1\" class=\"dataframe\">\n",
       "  <thead>\n",
       "    <tr style=\"text-align: right;\">\n",
       "      <th>Y</th>\n",
       "      <th>1</th>\n",
       "      <th>2</th>\n",
       "      <th>3</th>\n",
       "      <th>4</th>\n",
       "      <th>5</th>\n",
       "    </tr>\n",
       "    <tr>\n",
       "      <th>X</th>\n",
       "      <th></th>\n",
       "      <th></th>\n",
       "      <th></th>\n",
       "      <th></th>\n",
       "      <th></th>\n",
       "    </tr>\n",
       "  </thead>\n",
       "  <tbody>\n",
       "    <tr>\n",
       "      <th>1</th>\n",
       "      <td>0.0</td>\n",
       "      <td>-1.0</td>\n",
       "      <td>-2.0</td>\n",
       "      <td>-3.0</td>\n",
       "      <td>-4.0</td>\n",
       "    </tr>\n",
       "    <tr>\n",
       "      <th>2</th>\n",
       "      <td>1.0</td>\n",
       "      <td>0.0</td>\n",
       "      <td>-1.0</td>\n",
       "      <td>-2.0</td>\n",
       "      <td>-3.0</td>\n",
       "    </tr>\n",
       "    <tr>\n",
       "      <th>3</th>\n",
       "      <td>2.0</td>\n",
       "      <td>1.0</td>\n",
       "      <td>0.0</td>\n",
       "      <td>-1.0</td>\n",
       "      <td>NaN</td>\n",
       "    </tr>\n",
       "  </tbody>\n",
       "</table>\n",
       "</div>"
      ],
      "text/plain": [
       "Y    1    2    3    4    5\n",
       "X                         \n",
       "1  0.0 -1.0 -2.0 -3.0 -4.0\n",
       "2  1.0  0.0 -1.0 -2.0 -3.0\n",
       "3  2.0  1.0  0.0 -1.0  NaN"
      ]
     },
     "execution_count": 51,
     "metadata": {},
     "output_type": "execute_result"
    }
   ],
   "source": [
    "import pandas\n",
    "df = pandas.read_excel(\"seance4_excel.xlsx\", sheetname=\"Feuil1\")\n",
    "mat = df.pivot(\"X\", \"Y\", \"value\")\n",
    "mat.to_excel(\"seance4_excel_mat.xlsx\")\n",
    "mat"
   ]
  },
  {
   "cell_type": "code",
   "execution_count": null,
   "metadata": {},
   "outputs": [],
   "source": [
    "import random\n",
    "import datetime"
   ]
  }
 ],
 "metadata": {
  "kernelspec": {
   "display_name": "Python 3",
   "language": "python",
   "name": "python3"
  },
  "language_info": {
   "codemirror_mode": {
    "name": "ipython",
    "version": 3
   },
   "file_extension": ".py",
   "mimetype": "text/x-python",
   "name": "python",
   "nbconvert_exporter": "python",
   "pygments_lexer": "ipython3",
   "version": "3.7.1"
  }
 },
 "nbformat": 4,
 "nbformat_minor": 2
}
